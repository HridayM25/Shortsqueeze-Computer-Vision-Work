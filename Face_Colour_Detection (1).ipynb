{
  "cells": [
    {
      "cell_type": "code",
      "execution_count": null,
      "metadata": {
        "colab": {
          "base_uri": "https://localhost:8080/"
        },
        "id": "0NwvpmH3YVbX",
        "outputId": "7390d51e-956f-4063-e940-297bdf9cb331"
      },
      "outputs": [
        {
          "output_type": "stream",
          "name": "stdout",
          "text": [
            "Looking in indexes: https://pypi.org/simple, https://us-python.pkg.dev/colab-wheels/public/simple/\n",
            "Requirement already satisfied: opencv-python in /usr/local/lib/python3.8/dist-packages (4.6.0.66)\n",
            "Collecting mediapipe\n",
            "  Downloading mediapipe-0.9.0.1-cp38-cp38-manylinux_2_17_x86_64.manylinux2014_x86_64.whl (33.0 MB)\n",
            "\u001b[2K     \u001b[90m━━━━━━━━━━━━━━━━━━━━━━━━━━━━━━━━━━━━━━━━\u001b[0m \u001b[32m33.0/33.0 MB\u001b[0m \u001b[31m16.5 MB/s\u001b[0m eta \u001b[36m0:00:00\u001b[0m\n",
            "\u001b[?25hRequirement already satisfied: numpy>=1.14.5 in /usr/local/lib/python3.8/dist-packages (from opencv-python) (1.21.6)\n",
            "Requirement already satisfied: matplotlib in /usr/local/lib/python3.8/dist-packages (from mediapipe) (3.2.2)\n",
            "Requirement already satisfied: attrs>=19.1.0 in /usr/local/lib/python3.8/dist-packages (from mediapipe) (22.2.0)\n",
            "Requirement already satisfied: protobuf<4,>=3.11 in /usr/local/lib/python3.8/dist-packages (from mediapipe) (3.19.6)\n",
            "Requirement already satisfied: opencv-contrib-python in /usr/local/lib/python3.8/dist-packages (from mediapipe) (4.6.0.66)\n",
            "Collecting flatbuffers>=2.0\n",
            "  Downloading flatbuffers-23.1.4-py2.py3-none-any.whl (26 kB)\n",
            "Requirement already satisfied: absl-py in /usr/local/lib/python3.8/dist-packages (from mediapipe) (1.3.0)\n",
            "Requirement already satisfied: python-dateutil>=2.1 in /usr/local/lib/python3.8/dist-packages (from matplotlib->mediapipe) (2.8.2)\n",
            "Requirement already satisfied: pyparsing!=2.0.4,!=2.1.2,!=2.1.6,>=2.0.1 in /usr/local/lib/python3.8/dist-packages (from matplotlib->mediapipe) (3.0.9)\n",
            "Requirement already satisfied: cycler>=0.10 in /usr/local/lib/python3.8/dist-packages (from matplotlib->mediapipe) (0.11.0)\n",
            "Requirement already satisfied: kiwisolver>=1.0.1 in /usr/local/lib/python3.8/dist-packages (from matplotlib->mediapipe) (1.4.4)\n",
            "Requirement already satisfied: six>=1.5 in /usr/local/lib/python3.8/dist-packages (from python-dateutil>=2.1->matplotlib->mediapipe) (1.15.0)\n",
            "Installing collected packages: flatbuffers, mediapipe\n",
            "  Attempting uninstall: flatbuffers\n",
            "    Found existing installation: flatbuffers 1.12\n",
            "    Uninstalling flatbuffers-1.12:\n",
            "      Successfully uninstalled flatbuffers-1.12\n",
            "\u001b[31mERROR: pip's dependency resolver does not currently take into account all the packages that are installed. This behaviour is the source of the following dependency conflicts.\n",
            "tensorflow 2.9.2 requires flatbuffers<2,>=1.12, but you have flatbuffers 23.1.4 which is incompatible.\u001b[0m\u001b[31m\n",
            "\u001b[0mSuccessfully installed flatbuffers-23.1.4 mediapipe-0.9.0.1\n"
          ]
        }
      ],
      "source": [
        "!pip install opencv-python mediapipe"
      ]
    },
    {
      "cell_type": "code",
      "execution_count": null,
      "metadata": {
        "id": "nE-9S_jbYX6w"
      },
      "outputs": [],
      "source": [
        "import cv2\n",
        "import mediapipe as mp"
      ]
    },
    {
      "cell_type": "code",
      "execution_count": null,
      "metadata": {
        "id": "7Bj4kFuBMqgq"
      },
      "outputs": [],
      "source": [
        "from PIL import Image\n",
        "import numpy as np\n",
        "import pandas as pd"
      ]
    },
    {
      "cell_type": "code",
      "execution_count": null,
      "metadata": {
        "id": "J94szJe_jlf0"
      },
      "outputs": [],
      "source": [
        "from scipy import stats"
      ]
    },
    {
      "cell_type": "code",
      "execution_count": null,
      "metadata": {
        "id": "cNFluvm3mgaE"
      },
      "outputs": [],
      "source": [
        "import copy"
      ]
    },
    {
      "cell_type": "code",
      "execution_count": null,
      "metadata": {
        "id": "lSS7TeXNvCD_"
      },
      "outputs": [],
      "source": [
        "import math"
      ]
    },
    {
      "cell_type": "code",
      "source": [
        "import colorsys"
      ],
      "metadata": {
        "id": "NwaSH5yUtsXp"
      },
      "execution_count": null,
      "outputs": []
    },
    {
      "cell_type": "code",
      "execution_count": null,
      "metadata": {
        "id": "_Avik_TaYZkH"
      },
      "outputs": [],
      "source": [
        "mp_drawing = mp.solutions.drawing_utils\n",
        "mp_drawing_styles = mp.solutions.drawing_styles\n",
        "mp_face_mesh = mp.solutions.face_mesh"
      ]
    },
    {
      "cell_type": "code",
      "execution_count": null,
      "metadata": {
        "id": "CaALNtDsYbAG"
      },
      "outputs": [],
      "source": [
        "from google.colab.patches import cv2_imshow\n",
        "\n",
        "image = cv2.imread(\"1.jpeg\")\n",
        "image"
      ]
    },
    {
      "cell_type": "code",
      "execution_count": null,
      "metadata": {
        "id": "jxFX8DSxYc9Z"
      },
      "outputs": [],
      "source": [
        "drawing_spec = mp_drawing.DrawingSpec(thickness=1, circle_radius=1)\n",
        "with mp_face_mesh.FaceMesh(\n",
        "    static_image_mode=True,\n",
        "    max_num_faces=1,\n",
        "    refine_landmarks=True,\n",
        "    min_detection_confidence=0.5) as face_mesh:\n",
        "    image = cv2.imread(\"1.jpeg\")\n",
        "    results = face_mesh.process(cv2.cvtColor(image, cv2.COLOR_BGR2RGB))\n",
        "    annotated_image = image.copy()\n",
        "    for face_landmarks in results.multi_face_landmarks:\n",
        "      print('face_landmarks:', face_landmarks)\n",
        "      mp_drawing.draw_landmarks(\n",
        "          image=annotated_image,\n",
        "          landmark_list=face_landmarks,\n",
        "          connections=mp_face_mesh.FACEMESH_TESSELATION,\n",
        "          landmark_drawing_spec=None,\n",
        "          connection_drawing_spec=mp_drawing_styles\n",
        "          .get_default_face_mesh_tesselation_style())\n",
        "      mp_drawing.draw_landmarks(\n",
        "          image=annotated_image,\n",
        "          landmark_list=face_landmarks,\n",
        "          connections=mp_face_mesh.FACEMESH_CONTOURS,\n",
        "          landmark_drawing_spec=None,\n",
        "          connection_drawing_spec=mp_drawing_styles\n",
        "          .get_default_face_mesh_contours_style())\n",
        "      mp_drawing.draw_landmarks(\n",
        "          image=annotated_image,\n",
        "          landmark_list=face_landmarks,\n",
        "          connections=mp_face_mesh.FACEMESH_IRISES,\n",
        "          landmark_drawing_spec=None,\n",
        "          connection_drawing_spec=mp_drawing_styles\n",
        "          .get_default_face_mesh_iris_connections_style())\n",
        "      cv2.imwrite('/tmp/annotated_image' + '.png', annotated_image)"
      ]
    },
    {
      "cell_type": "code",
      "execution_count": null,
      "metadata": {
        "id": "5kiLusk-kp7n"
      },
      "outputs": [],
      "source": [
        "for face in results.multi_face_landmarks:\n",
        "    for landmark in face.landmark:\n",
        "        x = landmark.x\n",
        "        y = landmark.y\n",
        "\n",
        "        shape = image.shape\n",
        "        relative_x = int(x * shape[1])\n",
        "        relative_y = int(y * shape[0])\n",
        "\n",
        "        cv2.circle(image, (relative_x, relative_y), radius=1, color=(225, 0, 100), thickness=1)\n",
        "cv2_imshow(image)"
      ]
    },
    {
      "cell_type": "code",
      "execution_count": null,
      "metadata": {
        "id": "0tbefnPjluBz"
      },
      "outputs": [],
      "source": [
        "def coordinates (landmark1, landmark2, image):\n",
        "  data=np.array(image)\n",
        "  shape=data.shape\n",
        "  x1=int((results.multi_face_landmarks[0].landmark[landmark1].x)*shape[1])\n",
        "  y1=int((results.multi_face_landmarks[0].landmark[landmark1].y)*shape[0])\n",
        "  x2=int((results.multi_face_landmarks[0].landmark[landmark2].x)*shape[1])\n",
        "  y2=int((results.multi_face_landmarks[0].landmark[landmark2].y)*shape[0])\n",
        "  xmin=min(x1,x2)\n",
        "  xmax=max(x1,x2)\n",
        "  ymin=min(y1,y2)\n",
        "  ymax=max(y1,y2)\n",
        "  return (xmin,ymin,xmax, ymax)\n"
      ]
    },
    {
      "cell_type": "code",
      "execution_count": null,
      "metadata": {
        "id": "HPfpoYe3nXQU"
      },
      "outputs": [],
      "source": [
        "image=Image.open(\"1.jpg\")"
      ]
    },
    {
      "cell_type": "code",
      "execution_count": null,
      "metadata": {
        "id": "_lAebCi1OMxD"
      },
      "outputs": [],
      "source": [
        "data=np.array(image)\n",
        "shape=data.shape"
      ]
    },
    {
      "cell_type": "code",
      "execution_count": null,
      "metadata": {
        "id": "3XUHvxnNNbgN"
      },
      "outputs": [],
      "source": [
        "forehead_coordinates=coordinates(333, 104, image)\n",
        "nose_coordinates=coordinates (2,6,image)\n",
        "#cheek_coordinates=coordinates (11,20, image)"
      ]
    },
    {
      "cell_type": "code",
      "execution_count": null,
      "metadata": {
        "id": "C1JagS4EOaF_"
      },
      "outputs": [],
      "source": [
        "forehead_crop=image.crop(forehead_coordinates)\n",
        "nose_crop=image.crop(nose_coordinates)\n",
        "#cheek_crop=image.crop(cheek_coordinates)"
      ]
    },
    {
      "cell_type": "code",
      "execution_count": null,
      "metadata": {
        "colab": {
          "base_uri": "https://localhost:8080/",
          "height": 34
        },
        "id": "L13b3roAwaS3",
        "outputId": "ceea4fca-a17b-46f6-99d1-b4e32fce6bb0"
      },
      "outputs": [
        {
          "output_type": "execute_result",
          "data": {
            "text/plain": [
              "<PIL.Image.Image image mode=RGB size=58x8 at 0x7F0963387670>"
            ],
            "image/png": "[encoded data removed]"
          },
          "metadata": {},
          "execution_count": 19
        }
      ],
      "source": [
        "forehead_crop"
      ]
    },
    {
      "cell_type": "code",
      "execution_count": null,
      "metadata": {
        "id": "coIc6JwgOeNl"
      },
      "outputs": [],
      "source": [
        "forehead_data=np.array(forehead_crop)"
      ]
    },
    {
      "cell_type": "code",
      "source": [
        "forehead_data"
      ],
      "metadata": {
        "id": "nVX8V6wiDRSw",
        "colab": {
          "base_uri": "https://localhost:8080/"
        },
        "outputId": "eed932ab-8b68-44ea-8421-430a882f279f"
      },
      "execution_count": null,
      "outputs": [
        {
          "output_type": "execute_result",
          "data": {
            "text/plain": [
              "array([[[206, 160, 126],\n",
              "        [209, 163, 129],\n",
              "        [211, 165, 131],\n",
              "        ...,\n",
              "        [233, 192, 160],\n",
              "        [233, 192, 160],\n",
              "        [232, 191, 159]],\n",
              "\n",
              "       [[207, 161, 127],\n",
              "        [210, 164, 130],\n",
              "        [211, 165, 131],\n",
              "        ...,\n",
              "        [233, 193, 158],\n",
              "        [233, 193, 158],\n",
              "        [234, 191, 157]],\n",
              "\n",
              "       [[208, 162, 128],\n",
              "        [211, 165, 131],\n",
              "        [212, 166, 132],\n",
              "        ...,\n",
              "        [233, 193, 158],\n",
              "        [235, 192, 158],\n",
              "        [234, 191, 157]],\n",
              "\n",
              "       ...,\n",
              "\n",
              "       [[207, 161, 127],\n",
              "        [211, 165, 131],\n",
              "        [211, 165, 131],\n",
              "        ...,\n",
              "        [228, 189, 158],\n",
              "        [228, 187, 157],\n",
              "        [233, 192, 162]],\n",
              "\n",
              "       [[205, 159, 125],\n",
              "        [209, 163, 129],\n",
              "        [210, 164, 130],\n",
              "        ...,\n",
              "        [219, 182, 153],\n",
              "        [219, 180, 151],\n",
              "        [224, 185, 156]],\n",
              "\n",
              "       [[202, 156, 122],\n",
              "        [207, 161, 127],\n",
              "        [209, 163, 129],\n",
              "        ...,\n",
              "        [193, 157, 131],\n",
              "        [175, 138, 112],\n",
              "        [164, 127, 101]]], dtype=uint8)"
            ]
          },
          "metadata": {},
          "execution_count": 21
        }
      ]
    },
    {
      "cell_type": "code",
      "source": [],
      "metadata": {
        "id": "4xeuxDBzDRZo"
      },
      "execution_count": null,
      "outputs": []
    },
    {
      "cell_type": "code",
      "execution_count": null,
      "metadata": {
        "id": "ffxQ8ZsAaM43"
      },
      "outputs": [],
      "source": [
        "def colour_average1(image):\n",
        "  data=np.array(image)\n",
        "  shape=data.shape\n",
        "  rows=shape[0]\n",
        "  final_list=[]\n",
        "  c=0\n",
        "  for iterator in range(rows):\n",
        "    for x in data[iterator]:\n",
        "      list1=[x[0], x[1], x[2]]\n",
        "      final_list.append(list1)\n",
        "  df=pd.DataFrame(final_list, columns=['R', 'G', 'B'])\n",
        "  X=copy.copy(df)\n",
        "  X+=256\n",
        "  for i in range(len(X[\"R\"])):\n",
        "    if X[\"R\"][i]>256:\n",
        "      c=c+1\n",
        "      X[\"R\"][i]=df[\"R\"][i]\n",
        "  for i in range(len(X[\"G\"])):\n",
        "    if X[\"G\"][i]>256:\n",
        "      X[\"G\"][i]=df[\"G\"][i]\n",
        "  for i in range(len(X[\"B\"])):\n",
        "    if X[\"B\"][i]>256:\n",
        "      X[\"B\"][i]=df[\"B\"][i]\n",
        "  Red=X[\"R\"]\n",
        "  Green=X[\"G\"]\n",
        "  Blue=X[\"B\"]\n",
        "  rm=np.mean(Red)\n",
        "  gm=np.mean(Green)\n",
        "  bm=np.mean(Blue)\n",
        "  rs=np.std(Red)\n",
        "  gs=np.std(Green)\n",
        "  bs=np.std(Blue)\n",
        "  red_trim=stats.tmean(Red, (rm-rs, rm+rs))\n",
        "  green_trim=stats.tmean(Green, (gm-gs, gm+gs))\n",
        "  blue_trim=stats.tmean(Blue, (bm-bs, bm+bs))\n",
        "  area=len(Red)\n",
        "  return [red_trim, green_trim, blue_trim, area]"
      ]
    },
    {
      "cell_type": "code",
      "execution_count": null,
      "metadata": {
        "id": "62TeNNPjr-Xs"
      },
      "outputs": [],
      "source": [
        "def colour_average(image):\n",
        "  data=np.array(image)\n",
        "  shape=data.shape\n",
        "  rows=shape[0]\n",
        "  red=[]\n",
        "  green=[]\n",
        "  blue=[]\n",
        "  r=[]\n",
        "  g=[]\n",
        "  b=[]\n",
        "  c=0\n",
        "  for iterator in range(rows):\n",
        "    for x in data[iterator]:\n",
        "      red.append(x[0])\n",
        "      green.append(x[1])\n",
        "      blue.append(x[2])\n",
        "  rm=np.mean(red)\n",
        "  gm=np.mean(green)\n",
        "  bm=np.mean(blue)\n",
        "  rs=np.std(red)\n",
        "  gs=np.std(green)\n",
        "  bs=np.std(blue)\n",
        "  for item in red:\n",
        "    if item>=rm and item<=rm+rs:\n",
        "      r.append(item)\n",
        "  r=[int(x)*int(x) for x in r]\n",
        "  #root mean square\n",
        "  for item in green:\n",
        "    if item>=gm and item<=gm+gs:\n",
        "      g.append(item)\n",
        "  g=[int(x)*int(x) for x in g]\n",
        "  for item in blue:\n",
        "    if item>=bm and item<=bm+bs:\n",
        "      b.append(item)\n",
        "  b=[int(x)*int(x) for x in b]\n",
        "  red_trim=math.sqrt(sum(r)/len(r))\n",
        "  green_trim=math.sqrt(sum(g)/len(g))\n",
        "  blue_trim=math.sqrt(sum(b)/len(b))\n",
        "  area=min(len(r), len(g), len(b))\n",
        "  return [red_trim, green_trim, blue_trim, area]"
      ]
    },
    {
      "cell_type": "code",
      "execution_count": null,
      "metadata": {
        "id": "Zp_g-_kSeMq5"
      },
      "outputs": [],
      "source": [
        "f=colour_average (forehead_crop)\n",
        "g=colour_average (nose_crop)\n",
        "#h=colour_average (cheek_crop)\n",
        "m=[]"
      ]
    },
    {
      "cell_type": "code",
      "source": [
        "f"
      ],
      "metadata": {
        "colab": {
          "base_uri": "https://localhost:8080/"
        },
        "id": "8vLkyh0M-rnz",
        "outputId": "29ea9e65-5864-471a-c355-99a25fd31d05"
      },
      "execution_count": null,
      "outputs": [
        {
          "output_type": "execute_result",
          "data": {
            "text/plain": [
              "[237.4628215950265, 205.6523963565912, 175.93102793924754, 267]"
            ]
          },
          "metadata": {},
          "execution_count": 24
        }
      ]
    },
    {
      "cell_type": "code",
      "execution_count": null,
      "metadata": {
        "id": "EH4k6EtKk0I3"
      },
      "outputs": [],
      "source": [
        "def weighted_average (list1, list2, list3):\n",
        "  list_ans=[]\n",
        "  area1=list1[3]\n",
        "  area2=list2[3]\n",
        "  #area3=list3[3]\n",
        "  for i in range(3):\n",
        "    #ans=(list1[i]*area1 + list2[i]*area2 + list3[i]*area3)/(area1+area2+area3)\n",
        "    ans=(list1[i]*area1 + list2[i]*area2)/(area1+area2)\n",
        "    list_ans.append(ans)\n",
        "  return list_ans\n"
      ]
    },
    {
      "cell_type": "code",
      "execution_count": null,
      "metadata": {
        "id": "fohVmVOx1jQj",
        "colab": {
          "base_uri": "https://localhost:8080/"
        },
        "outputId": "dbde7878-336d-42c7-c364-15f5e9eb977f"
      },
      "outputs": [
        {
          "output_type": "execute_result",
          "data": {
            "text/plain": [
              "[237.57878765907392, 203.68228987147305, 174.14486521324295]"
            ]
          },
          "metadata": {},
          "execution_count": 30
        }
      ],
      "source": [
        "weighted_average(f,g,m)"
      ]
    },
    {
      "cell_type": "code",
      "execution_count": null,
      "metadata": {
        "id": "-skk0EZGxPwq"
      },
      "outputs": [],
      "source": [
        "#fdata=np.array(forehead_crop)"
      ]
    },
    {
      "cell_type": "code",
      "source": [
        "#fdata.shape"
      ],
      "metadata": {
        "colab": {
          "base_uri": "https://localhost:8080/"
        },
        "id": "I58KCVp8JDQK",
        "outputId": "dffd1e31-f959-44bc-a886-2d1fb66894e9"
      },
      "execution_count": null,
      "outputs": [
        {
          "output_type": "execute_result",
          "data": {
            "text/plain": [
              "(111, 238, 3)"
            ]
          },
          "metadata": {},
          "execution_count": 39
        }
      ]
    },
    {
      "cell_type": "code",
      "source": [
        "\"\"\"def colour_averagehsv(image):\n",
        "  data=np.array(image)\n",
        "  shape=data.shape\n",
        "  rows=shape[0]\n",
        "  hue=[]\n",
        "  saturation=[]\n",
        "  value=[]\n",
        "  hsv=[]\n",
        "  r=[]\n",
        "  g=[]\n",
        "  b=[]\n",
        "  c=0\n",
        "  for iterator in range(rows):\n",
        "    for x in data[iterator]:\n",
        "      (red,green,blue)=(x[0]/255, x[1]/255, x[2]/255)\n",
        "      (h,s,v)=colorsys.rgb_to_hsv(red,green,blue)\n",
        "      (h, s, v) = (int(h * 179), int(s * 255), int(v * 255))\n",
        "      hue.append(h)\n",
        "      saturation.append(s)\n",
        "      value.append(v)\n",
        "  rm=np.mean(hue)\n",
        "  gm=np.mean(saturation)\n",
        "  bm=np.mean(value)\n",
        "  rs=np.std(hue)\n",
        "  gs=np.std(saturation)\n",
        "  bs=np.std(value)\n",
        "  for item in hue:\n",
        "    if item>=rm and item<=rm+rs:\n",
        "      r.append(item)\n",
        "      c=c+1\n",
        "  r=[float(x)*float(x) for x in r]\n",
        "  for item in saturation:\n",
        "    if item>=gm and item<=gm+gs:\n",
        "      g.append(item)\n",
        "  g=[float(x)*float(x) for x in g]\n",
        "  for item in value:\n",
        "    if item>=bm and item<=bm+bs:\n",
        "      b.append(item)\n",
        "  b=[float(x)*float(x) for x in b]\n",
        "  red_trim=math.sqrt(sum(r)/len(r))\n",
        "  green_trim=math.sqrt(sum(g)/len(g))\n",
        "  blue_trim=math.sqrt(sum(b)/len(b))\n",
        "  area=min(len(r), len(g), len(b))\n",
        "  return [int(red_trim), int(green_trim), int(blue_trim), area]\"\"\""
      ],
      "metadata": {
        "id": "cMH7rlHjJhJB"
      },
      "execution_count": null,
      "outputs": []
    },
    {
      "cell_type": "code",
      "source": [
        "#colour_averagehsv(forehead_crop)"
      ],
      "metadata": {
        "colab": {
          "base_uri": "https://localhost:8080/"
        },
        "id": "Ef5dFT07VzVX",
        "outputId": "59aa7abc-367d-4330-f961-71f1883c96e4"
      },
      "execution_count": null,
      "outputs": [
        {
          "output_type": "execute_result",
          "data": {
            "text/plain": [
              "[18, 85, 185, 11]"
            ]
          },
          "metadata": {},
          "execution_count": 63
        }
      ]
    }
  ],
  "metadata": {
    "colab": {
      "provenance": []
    },
    "kernelspec": {
      "display_name": "Python 3",
      "name": "python3"
    },
    "language_info": {
      "name": "python"
    }
  },
  "nbformat": 4,
  "nbformat_minor": 0
}